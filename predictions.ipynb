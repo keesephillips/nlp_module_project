{
 "cells": [
  {
   "cell_type": "code",
   "execution_count": 81,
   "metadata": {},
   "outputs": [],
   "source": []
  },
  {
   "cell_type": "code",
   "execution_count": 82,
   "metadata": {},
   "outputs": [],
   "source": [
    "df = pd.read_csv('data/processed/2024_6.csv')"
   ]
  },
  {
   "cell_type": "code",
   "execution_count": 83,
   "metadata": {},
   "outputs": [],
   "source": [
    "df = df.sort_values(by='sentiment_score', ascending=False)"
   ]
  },
  {
   "cell_type": "code",
   "execution_count": 85,
   "metadata": {},
   "outputs": [],
   "source": [
    "def replace_json(x):\n",
    "    x = x.replace(\"'\", \"\\\"\")\n",
    "    try:\n",
    "        return json.loads(x)\n",
    "    except:\n",
    "        return None\n",
    "\n",
    "df['keywords'] = df['keywords'].apply(lambda x: replace_json(x))"
   ]
  },
  {
   "cell_type": "code",
   "execution_count": 86,
   "metadata": {},
   "outputs": [],
   "source": [
    "df = df.explode('keywords')"
   ]
  },
  {
   "cell_type": "code",
   "execution_count": 87,
   "metadata": {},
   "outputs": [],
   "source": [
    "df = pd.concat([df.reset_index(drop=True), pd.json_normalize(df['keywords'])], axis=1)"
   ]
  },
  {
   "cell_type": "code",
   "execution_count": 88,
   "metadata": {},
   "outputs": [],
   "source": [
    "df.drop(columns=['keywords'], inplace=True)"
   ]
  },
  {
   "cell_type": "code",
   "execution_count": 90,
   "metadata": {},
   "outputs": [],
   "source": [
    "df.dropna(subset=['value'], inplace=True)"
   ]
  },
  {
   "cell_type": "code",
   "execution_count": 100,
   "metadata": {},
   "outputs": [
    {
     "data": {
      "text/plain": [
       "218                            Health Clubs\n",
       "219                                Exercise\n",
       "220                Real Estate (Commercial)\n",
       "221                           Chelsea Piers\n",
       "222                    Equinox Holdings Inc\n",
       "223                         Manhattan (NYC)\n",
       "224                           New York City\n",
       "225               Luxury Goods and Services\n",
       "252                                   Fruit\n",
       "253    International Trade and World Market\n",
       "254                 Agriculture and Farming\n",
       "255          Economic Conditions and Trends\n",
       "256                       Consumer Behavior\n",
       "257                                   China\n",
       "258                                Thailand\n",
       "259                                Malaysia\n",
       "260                          Southeast Asia\n",
       "261                               vis-photo\n",
       "262               audio-neutral-informative\n",
       "350                   internal-storyline-no\n",
       "351                            Social Media\n",
       "352              High Net Worth Individuals\n",
       "353      Pershing Square Capital Management\n",
       "354                       Ackman, William A\n",
       "355                Initial Public Offerings\n",
       "Name: value, dtype: object"
      ]
     },
     "execution_count": 100,
     "metadata": {},
     "output_type": "execute_result"
    }
   ],
   "source": [
    "df[df['news_desk'] == 'Business'].drop_duplicates(subset=['value'])['value'].head(25)"
   ]
  },
  {
   "cell_type": "code",
   "execution_count": 99,
   "metadata": {},
   "outputs": [
    {
     "data": {
      "text/plain": [
       "array(['Dining', 'Styles', 'Arts&Leisure', 'Culture', 'Magazine',\n",
       "       'Foreign', 'RealEstate', 'Business', 'BookReview', 'Weekend',\n",
       "       'National', 'TStyle', 'Science', 'Sports', 'SundayBusiness',\n",
       "       'Politics', 'Insider', 'Washington', 'Travel', 'Summary',\n",
       "       'Climate', 'Express', 'Books', 'SpecialSections', 'Metro',\n",
       "       'Local Investigations', 'Election Analytics', 'Investigative'],\n",
       "      dtype=object)"
      ]
     },
     "execution_count": 99,
     "metadata": {},
     "output_type": "execute_result"
    }
   ],
   "source": [
    "df['news_desk'].unique()"
   ]
  },
  {
   "cell_type": "code",
   "execution_count": 101,
   "metadata": {},
   "outputs": [],
   "source": [
    "months = {\n",
    "    \"Jan 2023\": {\"month\": \"1\", \"year\": \"2023\"},\n",
    "    \"Feb 2023\": {\"month\": \"2\", \"year\": \"2023\"},\n",
    "    \"Mar 2023\": {\"month\": \"3\", \"year\": \"2023\"},\n",
    "    \"Apr 2023\": {\"month\": \"4\", \"year\": \"2023\"},\n",
    "    \"May 2023\": {\"month\": \"5\", \"year\": \"2023\"},\n",
    "    \"Jun 2023\": {\"month\": \"6\", \"year\": \"2023\"},\n",
    "    \"Jul 2023\": {\"month\": \"7\", \"year\": \"2023\"},\n",
    "    \"Aug 2023\": {\"month\": \"8\", \"year\": \"2023\"},\n",
    "    \"Sep 2023\": {\"month\": \"9\", \"year\": \"2023\"},\n",
    "    \"Oct 2023\": {\"month\": \"10\", \"year\": \"2023\"},\n",
    "    \"Nov 2023\": {\"month\": \"11\", \"year\": \"2023\"},\n",
    "    \"Dec 2023\": {\"month\": \"12\", \"year\": \"2023\"},\n",
    "    \"Jan 2024\": {\"month\": \"1\", \"year\": \"2024\"},\n",
    "    \"Feb 2024\": {\"month\": \"2\", \"year\": \"2024\"},\n",
    "    \"Mar 2024\": {\"month\": \"3\", \"year\": \"2024\"},\n",
    "    \"Apr 2024\": {\"month\": \"4\", \"year\": \"2024\"},\n",
    "    \"May 2024\": {\"month\": \"5\", \"year\": \"2024\"},\n",
    "    \"Jun 2024\": {\"month\": \"6\", \"year\": \"2024\"},\n",
    "}\n",
    "    "
   ]
  },
  {
   "cell_type": "code",
   "execution_count": 105,
   "metadata": {},
   "outputs": [],
   "source": [
    "import pandas as pd"
   ]
  },
  {
   "cell_type": "code",
   "execution_count": 107,
   "metadata": {},
   "outputs": [],
   "source": [
    "df = pd.DataFrame()\n",
    "for month in months.keys():\n",
    "    temp_df = pd.read_csv(f'data/processed/{months[month][\"year\"]}_{months[month][\"month\"]}.csv')\n",
    "    df = pd.concat([df, temp_df])"
   ]
  },
  {
   "cell_type": "code",
   "execution_count": 113,
   "metadata": {},
   "outputs": [
    {
     "name": "stdout",
     "output_type": "stream",
     "text": [
      "2022-01-01\n",
      "2022 1\n",
      "2022-02-01\n",
      "2022 2\n",
      "2022-03-01\n",
      "2022 3\n",
      "2022-04-01\n",
      "2022 4\n",
      "2022-05-01\n",
      "2022 5\n",
      "2022-06-01\n",
      "2022 6\n",
      "2022-07-01\n",
      "2022 7\n",
      "2022-08-01\n",
      "2022 8\n",
      "2022-09-01\n",
      "2022 9\n",
      "2022-10-01\n",
      "2022 10\n",
      "2022-11-01\n",
      "2022 11\n",
      "2022-12-01\n",
      "2022 12\n",
      "2023-01-01\n",
      "2023 1\n",
      "2023-02-01\n",
      "2023 2\n",
      "2023-03-01\n",
      "2023 3\n",
      "2023-04-01\n",
      "2023 4\n",
      "2023-05-01\n",
      "2023 5\n",
      "2023-06-01\n",
      "2023 6\n",
      "2023-07-01\n",
      "2023 7\n",
      "2023-08-01\n",
      "2023 8\n",
      "2023-09-01\n",
      "2023 9\n",
      "2023-10-01\n",
      "2023 10\n",
      "2023-11-01\n",
      "2023 11\n",
      "2023-12-01\n",
      "2023 12\n",
      "2024-01-01\n",
      "2024 1\n",
      "2024-02-01\n",
      "2024 2\n",
      "2024-03-01\n",
      "2024 3\n",
      "2024-04-01\n",
      "2024 4\n",
      "2024-05-01\n",
      "2024 5\n",
      "2024-06-01\n",
      "2024 6\n",
      "2024-07-01\n",
      "2024 7\n"
     ]
    }
   ],
   "source": [
    "# import datetime module\n",
    "import datetime\n",
    "from datetime import date\n",
    "from dateutil.relativedelta import *\n",
    "\n",
    "# consider the start date as 2021-february 1 st\n",
    "start_date = datetime.date(2022, 1, 1)\n",
    " \n",
    "# consider the end date as 2021-march 1 st\n",
    "end_date = date.today()\n",
    " \n",
    "# delta time\n",
    "delta = relativedelta(months=1)\n",
    " \n",
    "# iterate over range of dates\n",
    "while (start_date <= end_date):\n",
    "    print(start_date.year, start_date.month)\n",
    "    start_date += delta"
   ]
  }
 ],
 "metadata": {
  "kernelspec": {
   "display_name": "term_project",
   "language": "python",
   "name": "python3"
  },
  "language_info": {
   "codemirror_mode": {
    "name": "ipython",
    "version": 3
   },
   "file_extension": ".py",
   "mimetype": "text/x-python",
   "name": "python",
   "nbconvert_exporter": "python",
   "pygments_lexer": "ipython3",
   "version": "3.9.19"
  }
 },
 "nbformat": 4,
 "nbformat_minor": 2
}
