{
 "cells": [
  {
   "cell_type": "code",
   "execution_count": 81,
   "metadata": {},
   "outputs": [],
   "source": []
  },
  {
   "cell_type": "code",
   "execution_count": 82,
   "metadata": {},
   "outputs": [],
   "source": [
    "df = pd.read_csv('data/processed/2024_6.csv')"
   ]
  },
  {
   "cell_type": "code",
   "execution_count": 83,
   "metadata": {},
   "outputs": [],
   "source": [
    "df = df.sort_values(by='sentiment_score', ascending=False)"
   ]
  },
  {
   "cell_type": "code",
   "execution_count": 85,
   "metadata": {},
   "outputs": [],
   "source": [
    "def replace_json(x):\n",
    "    x = x.replace(\"'\", \"\\\"\")\n",
    "    try:\n",
    "        return json.loads(x)\n",
    "    except:\n",
    "        return None\n",
    "\n",
    "df['keywords'] = df['keywords'].apply(lambda x: replace_json(x))"
   ]
  },
  {
   "cell_type": "code",
   "execution_count": 86,
   "metadata": {},
   "outputs": [],
   "source": [
    "df = df.explode('keywords')"
   ]
  },
  {
   "cell_type": "code",
   "execution_count": 87,
   "metadata": {},
   "outputs": [],
   "source": [
    "df = pd.concat([df.reset_index(drop=True), pd.json_normalize(df['keywords'])], axis=1)"
   ]
  },
  {
   "cell_type": "code",
   "execution_count": 88,
   "metadata": {},
   "outputs": [],
   "source": [
    "df.drop(columns=['keywords'], inplace=True)"
   ]
  },
  {
   "cell_type": "code",
   "execution_count": 90,
   "metadata": {},
   "outputs": [],
   "source": [
    "df.dropna(subset=['value'], inplace=True)"
   ]
  },
  {
   "cell_type": "code",
   "execution_count": 100,
   "metadata": {},
   "outputs": [
    {
     "data": {
      "text/plain": [
       "218                            Health Clubs\n",
       "219                                Exercise\n",
       "220                Real Estate (Commercial)\n",
       "221                           Chelsea Piers\n",
       "222                    Equinox Holdings Inc\n",
       "223                         Manhattan (NYC)\n",
       "224                           New York City\n",
       "225               Luxury Goods and Services\n",
       "252                                   Fruit\n",
       "253    International Trade and World Market\n",
       "254                 Agriculture and Farming\n",
       "255          Economic Conditions and Trends\n",
       "256                       Consumer Behavior\n",
       "257                                   China\n",
       "258                                Thailand\n",
       "259                                Malaysia\n",
       "260                          Southeast Asia\n",
       "261                               vis-photo\n",
       "262               audio-neutral-informative\n",
       "350                   internal-storyline-no\n",
       "351                            Social Media\n",
       "352              High Net Worth Individuals\n",
       "353      Pershing Square Capital Management\n",
       "354                       Ackman, William A\n",
       "355                Initial Public Offerings\n",
       "Name: value, dtype: object"
      ]
     },
     "execution_count": 100,
     "metadata": {},
     "output_type": "execute_result"
    }
   ],
   "source": [
    "df[df['news_desk'] == 'Business'].drop_duplicates(subset=['value'])['value'].head(25)"
   ]
  },
  {
   "cell_type": "code",
   "execution_count": 99,
   "metadata": {},
   "outputs": [
    {
     "data": {
      "text/plain": [
       "array(['Dining', 'Styles', 'Arts&Leisure', 'Culture', 'Magazine',\n",
       "       'Foreign', 'RealEstate', 'Business', 'BookReview', 'Weekend',\n",
       "       'National', 'TStyle', 'Science', 'Sports', 'SundayBusiness',\n",
       "       'Politics', 'Insider', 'Washington', 'Travel', 'Summary',\n",
       "       'Climate', 'Express', 'Books', 'SpecialSections', 'Metro',\n",
       "       'Local Investigations', 'Election Analytics', 'Investigative'],\n",
       "      dtype=object)"
      ]
     },
     "execution_count": 99,
     "metadata": {},
     "output_type": "execute_result"
    }
   ],
   "source": [
    "df['news_desk'].unique()"
   ]
  },
  {
   "cell_type": "code",
   "execution_count": 101,
   "metadata": {},
   "outputs": [],
   "source": [
    "months = {\n",
    "    \"Jan 2023\": {\"month\": \"1\", \"year\": \"2023\"},\n",
    "    \"Feb 2023\": {\"month\": \"2\", \"year\": \"2023\"},\n",
    "    \"Mar 2023\": {\"month\": \"3\", \"year\": \"2023\"},\n",
    "    \"Apr 2023\": {\"month\": \"4\", \"year\": \"2023\"},\n",
    "    \"May 2023\": {\"month\": \"5\", \"year\": \"2023\"},\n",
    "    \"Jun 2023\": {\"month\": \"6\", \"year\": \"2023\"},\n",
    "    \"Jul 2023\": {\"month\": \"7\", \"year\": \"2023\"},\n",
    "    \"Aug 2023\": {\"month\": \"8\", \"year\": \"2023\"},\n",
    "    \"Sep 2023\": {\"month\": \"9\", \"year\": \"2023\"},\n",
    "    \"Oct 2023\": {\"month\": \"10\", \"year\": \"2023\"},\n",
    "    \"Nov 2023\": {\"month\": \"11\", \"year\": \"2023\"},\n",
    "    \"Dec 2023\": {\"month\": \"12\", \"year\": \"2023\"},\n",
    "    \"Jan 2024\": {\"month\": \"1\", \"year\": \"2024\"},\n",
    "    \"Feb 2024\": {\"month\": \"2\", \"year\": \"2024\"},\n",
    "    \"Mar 2024\": {\"month\": \"3\", \"year\": \"2024\"},\n",
    "    \"Apr 2024\": {\"month\": \"4\", \"year\": \"2024\"},\n",
    "    \"May 2024\": {\"month\": \"5\", \"year\": \"2024\"},\n",
    "    \"Jun 2024\": {\"month\": \"6\", \"year\": \"2024\"},\n",
    "}\n",
    "    "
   ]
  },
  {
   "cell_type": "code",
   "execution_count": 105,
   "metadata": {},
   "outputs": [],
   "source": [
    "import pandas as pd"
   ]
  },
  {
   "cell_type": "code",
   "execution_count": 107,
   "metadata": {},
   "outputs": [],
   "source": [
    "df = pd.DataFrame()\n",
    "for month in months.keys():\n",
    "    temp_df = pd.read_csv(f'data/processed/{months[month][\"year\"]}_{months[month][\"month\"]}.csv')\n",
    "    df = pd.concat([df, temp_df])"
   ]
  },
  {
   "cell_type": "code",
   "execution_count": 109,
   "metadata": {},
   "outputs": [
    {
     "data": {
      "text/plain": [
       "array(['Sports', 'Foreign', 'Styles', 'Washington', 'Business', 'Science',\n",
       "       'Culture', 'SundayBusiness', 'Arts&Leisure', 'Express', 'National',\n",
       "       'Climate', 'Magazine', 'RealEstate', 'Politics', 'Weekend',\n",
       "       'Dining', 'Books', 'BookReview', 'Travel', 'NYTNow', 'Summary',\n",
       "       'Insider', 'SpecialSections', 'Investigative', 'Video', 'Live',\n",
       "       'TStyle', 'Weather', 'Projects and Initiatives', 'Metro', 'Obits',\n",
       "       nan, 'Graphics', 'Local Investigations', 'Election Analytics',\n",
       "       'Photo', 'Headway', 'Games', 'Metropolitan'], dtype=object)"
      ]
     },
     "execution_count": 109,
     "metadata": {},
     "output_type": "execute_result"
    }
   ],
   "source": [
    "df['news_desk'].unique()"
   ]
  }
 ],
 "metadata": {
  "kernelspec": {
   "display_name": "term_project",
   "language": "python",
   "name": "python3"
  },
  "language_info": {
   "codemirror_mode": {
    "name": "ipython",
    "version": 3
   },
   "file_extension": ".py",
   "mimetype": "text/x-python",
   "name": "python",
   "nbconvert_exporter": "python",
   "pygments_lexer": "ipython3",
   "version": "3.9.19"
  }
 },
 "nbformat": 4,
 "nbformat_minor": 2
}
